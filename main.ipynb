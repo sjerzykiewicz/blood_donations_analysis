{
 "cells": [
  {
   "cell_type": "code",
   "execution_count": null,
   "metadata": {},
   "outputs": [],
   "source": [
    "import pandas as pd\n",
    "import matplotlib.pyplot as plt\n",
    "import matplotlib.dates as md\n",
    "%matplotlib inline"
   ]
  },
  {
   "cell_type": "code",
   "execution_count": null,
   "metadata": {},
   "outputs": [],
   "source": [
    "file_poznan = pd.read_csv(\"data/blood_donation_poznan.csv\")\n",
    "file_warsaw = pd.read_csv(\"data/blood_donation_warsaw.csv\")\n",
    "\n",
    "p_df = pd.DataFrame(file_poznan)\n",
    "w_df = pd.DataFrame(file_warsaw)\n",
    "p_df[\"date\"] = pd.to_datetime(p_df[\"date\"], format=\"%d-%m-%Y\")\n",
    "w_df[\"date\"] = pd.to_datetime(w_df[\"date\"], format=\"%d-%m-%Y\")\n",
    "\n",
    "w_blood_df = w_df.loc[w_df[\"type\"] == \"blood\"]\n",
    "w_platelets_df = w_df.loc[w_df[\"type\"] == \"platelets\"]"
   ]
  },
  {
   "cell_type": "code",
   "execution_count": null,
   "metadata": {},
   "outputs": [],
   "source": [
    "p_blood_plus = p_df.loc[p_df[\"blood_type\"].str[-1] == \"+\"]\n",
    "p_blood_minus = p_df.loc[p_df[\"blood_type\"].str[-1] == \"-\"]\n",
    "\n",
    "w_blood_plus = w_blood_df.loc[w_blood_df[\"blood_type\"].str[-1] == \"+\"]\n",
    "w_blood_minus = w_blood_df.loc[w_blood_df[\"blood_type\"].str[-1] == \"-\"]\n",
    "\n",
    "w_platelets_plus = w_platelets_df.loc[w_platelets_df[\"blood_type\"].str[-1] == \"+\"]\n",
    "w_platelets_minus = w_platelets_df.loc[w_platelets_df[\"blood_type\"].str[-1] == \"-\"]"
   ]
  },
  {
   "cell_type": "code",
   "execution_count": null,
   "metadata": {},
   "outputs": [],
   "source": [
    "p_bld_plus = pd.pivot(data=p_blood_plus, index=\"date\", columns=\"blood_type\", values=\"qValue\")\n",
    "p_bld_minus = pd.pivot(data=p_blood_minus, index=\"date\", columns=\"blood_type\", values=\"qValue\")\n",
    "\n",
    "w_bld_plus = pd.pivot(data=w_blood_plus, index=\"date\", columns=\"blood_type\", values=\"qValue\")\n",
    "w_bld_minus = pd.pivot(data=w_blood_minus, index=\"date\", columns=\"blood_type\", values=\"qValue\")\n",
    "\n",
    "w_pts_plus = pd.pivot(data=w_platelets_plus, index=\"date\", columns=\"blood_type\", values=\"qValue\")\n",
    "w_pts_minus = pd.pivot(data=w_platelets_minus, index=\"date\", columns=\"blood_type\", values=\"qValue\")"
   ]
  },
  {
   "cell_type": "code",
   "execution_count": null,
   "metadata": {},
   "outputs": [],
   "source": [
    "poznan_blood = plt.figure()\n",
    "\n",
    "p_plus_axes = poznan_blood.add_axes([0, 0.9, 1, 0.7])\n",
    "p_minus_axes = poznan_blood.add_axes([0, 0, 1, 0.7])\n",
    "\n",
    "p_plus_axes.plot(p_bld_plus)\n",
    "p_plus_axes.set_xlabel(\"Date\")\n",
    "p_plus_axes.set_ylabel(\"Quantity\")\n",
    "p_plus_axes.set_title(\"Poznan - Blood Rh+\")\n",
    "p_plus_axes.legend(p_bld_plus.columns, loc=1)\n",
    "p_plus_axes.set_yticks([0,5,20,50,100])\n",
    "# p_plus_axes.xaxis.set_major_locator(md.MonthLocator(interval=2))\n",
    "# p_plus_axes.xaxis.set_major_formatter(md.DateFormatter('%Y-%m-%d'))\n",
    "\n",
    "p_minus_axes.plot(p_bld_minus)\n",
    "p_minus_axes.set_xlabel(\"Date\")\n",
    "p_minus_axes.set_ylabel(\"Quantity\")\n",
    "p_minus_axes.set_title(\"Poznan - Blood Rh-\")\n",
    "p_minus_axes.legend(p_bld_minus.columns, loc=1)\n",
    "p_minus_axes.set_yticks([0,5,20,50,100])\n",
    "# p_minus_axes.xaxis.set_major_locator(md.MonthLocator(interval=2))\n",
    "# p_minus_axes.xaxis.set_major_formatter(md.DateFormatter('%Y-%m-%d'))"
   ]
  },
  {
   "cell_type": "code",
   "execution_count": null,
   "metadata": {},
   "outputs": [],
   "source": [
    "warsaw_blood = plt.figure()\n",
    "\n",
    "w_b_plus_axes = warsaw_blood.add_axes([0, 0.9, 1, 0.7])\n",
    "w_b_minus_axes = warsaw_blood.add_axes([0, 0, 1, 0.7])\n",
    "\n",
    "w_b_plus_axes.plot(w_bld_plus)\n",
    "w_b_plus_axes.set_xlabel(\"Date\")\n",
    "w_b_plus_axes.set_ylabel(\"Quantity\")\n",
    "w_b_plus_axes.set_title(\"Warsaw - Blood Rh+\")\n",
    "w_b_plus_axes.legend(w_bld_plus.columns, loc=3)\n",
    "w_b_plus_axes.set_yticks([0,5,20,50,100])\n",
    "# w_b_plus_axes.xaxis.set_major_locator(md.MonthLocator(interval=2))\n",
    "# w_b_plus_axes.xaxis.set_major_formatter(md.DateFormatter('%Y-%m-%d'))\n",
    "\n",
    "w_b_minus_axes.plot(w_bld_minus)\n",
    "w_b_minus_axes.set_xlabel(\"Date\")\n",
    "w_b_minus_axes.set_ylabel(\"Quantity\")\n",
    "w_b_minus_axes.set_title(\"Warsaw - Blood Rh-\")\n",
    "w_b_minus_axes.legend(w_bld_minus.columns, loc=3)\n",
    "w_b_minus_axes.set_yticks([0,5,20,50,100])\n",
    "# w_b_minus_axes.xaxis.set_major_locator(md.MonthLocator(interval=2))\n",
    "# w_b_minus_axes.xaxis.set_major_formatter(md.DateFormatter('%Y-%m-%d'))\n"
   ]
  },
  {
   "cell_type": "code",
   "execution_count": null,
   "metadata": {},
   "outputs": [],
   "source": [
    "warsaw_platelets = plt.figure()\n",
    "\n",
    "w_p_plus_axes = warsaw_platelets.add_axes([0, 0.9, 1, 0.7])\n",
    "w_p_minus_axes = warsaw_platelets.add_axes([0, 0, 1, 0.7])\n",
    "\n",
    "w_p_plus_axes.plot(w_pts_plus)\n",
    "w_p_plus_axes.set_xlabel(\"Date\")\n",
    "w_p_plus_axes.set_ylabel(\"Quantity\")\n",
    "w_p_plus_axes.set_title(\"Warsaw - Platelets Rh+\")\n",
    "w_p_plus_axes.legend(w_pts_plus.columns, loc=1)\n",
    "w_p_plus_axes.set_yticks([0,5,20,50,100])\n",
    "# w_p_plus_axes.xaxis.set_major_locator(md.MonthLocator(interval=2))\n",
    "# w_p_plus_axes.xaxis.set_major_formatter(md.DateFormatter('%Y-%m-%d'))\n",
    "\n",
    "w_p_minus_axes.plot(w_pts_minus)\n",
    "w_p_minus_axes.set_xlabel(\"Date\")\n",
    "w_p_minus_axes.set_ylabel(\"Quantity\")\n",
    "w_p_minus_axes.set_title(\"Warsaw - Platelets Rh-\")\n",
    "w_p_minus_axes.legend(w_pts_minus.columns, loc=1)\n",
    "w_p_minus_axes.set_yticks([0,5,20,50,100])\n",
    "# w_p_minus_axes.xaxis.set_major_locator(md.MonthLocator(interval=2))\n",
    "# w_p_minus_axes.xaxis.set_major_formatter(md.DateFormatter('%Y-%m-%d'))"
   ]
  }
 ],
 "metadata": {
  "interpreter": {
   "hash": "3032f181e3ffa26f076e5ed2e1db22356f2f966ade920aded593c3d262e674cb"
  },
  "kernelspec": {
   "display_name": "Python 3.9.9 64-bit (windows store)",
   "language": "python",
   "name": "python3"
  },
  "language_info": {
   "codemirror_mode": {
    "name": "ipython",
    "version": 3
   },
   "file_extension": ".py",
   "mimetype": "text/x-python",
   "name": "python",
   "nbconvert_exporter": "python",
   "pygments_lexer": "ipython3",
   "version": "3.9.6"
  },
  "orig_nbformat": 4
 },
 "nbformat": 4,
 "nbformat_minor": 2
}
